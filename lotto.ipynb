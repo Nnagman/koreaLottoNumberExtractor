{
 "cells": [
  {
   "cell_type": "code",
   "execution_count": 43,
   "metadata": {},
   "outputs": [],
   "source": [
    "import requests, json\n",
    "\n",
    "i = range(400,902)\n",
    "\n",
    "lotto = []\n",
    "num1,num2,num3,num4,num5,num6,num7 = [], [], [], [], [], [], []\n",
    "varArray = [num1,num2,num3,num4,num5,num6,num7]\n",
    "\n",
    "for item in i:\n",
    "    url = \"https://www.nlotto.co.kr/common.do?method=getLottoNumber&drwNo=\"+str(item)\n",
    "    params = {'dataType': 'json'}\n",
    "    data = requests.get(url, params=params)\n",
    "\n",
    "    item = data.text.replace(\"&#034;\",'\"')\n",
    "    jsonItem = json.loads(item)\n",
    "    lotto.append(jsonItem)\n",
    "    for v in range(0,7):\n",
    "        if v == 6:\n",
    "            varArray[v].append(jsonItem['bnusNo'])\n",
    "        else:\n",
    "            varArray[v].append(jsonItem['drwtNo{}'.format(str(v+1))])\n",
    "    "
   ]
  },
  {
   "cell_type": "code",
   "execution_count": null,
   "metadata": {},
   "outputs": [],
   "source": [
    "import random\n",
    "\n",
    "lttNum1 = []\n",
    "lttBns1 = 0\n",
    "lttNum2 = []\n",
    "lttBns2 = 0\n",
    "isSame = 0\n",
    "\n",
    "while isSame == 0:\n",
    "    lttBns1 = random.randrange(1,46)\n",
    "    lttBns2 = random.randrange(1,46)\n",
    "    for n in range(0,5):\n",
    "        lttNum1.append(random.randrange(1,46))\n",
    "        lttNum2.append(random.randrange(1,46))\n",
    "        \n",
    "    lttNum1.sort()\n",
    "    lttNum2.sort()\n",
    "    \n",
    "    if lttNum1 == lttNum2 and lttBns1 == lttBns2:\n",
    "        print(lttNum1,lttNum2)\n",
    "        isSame = 1\n",
    "    else:\n",
    "        lttNum1 = []\n",
    "        lttNum2 = []\n",
    "        "
   ]
  },
  {
   "cell_type": "code",
   "execution_count": null,
   "metadata": {},
   "outputs": [],
   "source": [
    "# libraries and data\n",
    "import matplotlib.pyplot as plt\n",
    "import numpy as np\n",
    "import pandas as pd\n",
    "\n",
    "for item in range(0,6):\n",
    "    # Make a data frame\n",
    "    df=pd.DataFrame({'x': range(1,503), 'num': varArray[item]})\n",
    "\n",
    "    # style\n",
    "    plt.style.use('seaborn-darkgrid')\n",
    "    plt.figure(figsize=(20, 5))\n",
    "    # create a color palette\n",
    "    palette = plt.get_cmap('Set1')\n",
    "\n",
    "    # multiple line plot\n",
    "    num=0\n",
    "    for column in df.drop('x', axis=1):\n",
    "        num+=1\n",
    "        plt.plot(df['x'], df[column], marker='', color=palette(num), linewidth=1, alpha=0.9, label=column)\n",
    "\n",
    "    # Add legend\n",
    "    plt.legend(loc=2, ncol=2)\n",
    "\n",
    "    # Add titles\n",
    "    plt.title(\"A (bad) Spaghetti plot\", loc='left', fontsize=20, fontweight=0, color='orange')\n",
    "    plt.xlabel(\"Time\")\n",
    "    plt.ylabel(\"Score\")\n"
   ]
  },
  {
   "cell_type": "code",
   "execution_count": null,
   "metadata": {},
   "outputs": [],
   "source": []
  }
 ],
 "metadata": {
  "kernelspec": {
   "display_name": "Python 3",
   "language": "python",
   "name": "python3"
  },
  "language_info": {
   "codemirror_mode": {
    "name": "ipython",
    "version": 3
   },
   "file_extension": ".py",
   "mimetype": "text/x-python",
   "name": "python",
   "nbconvert_exporter": "python",
   "pygments_lexer": "ipython3",
   "version": "3.7.4"
  }
 },
 "nbformat": 4,
 "nbformat_minor": 2
}
